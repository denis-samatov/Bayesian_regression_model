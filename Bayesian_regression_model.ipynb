{
  "cells": [
    {
      "cell_type": "markdown",
      "metadata": {
        "id": "N2n48A4KVtxO"
      },
      "source": [
        "# **Реализация байесовской регрессии с использованием Python**"
      ]
    },
    {
      "cell_type": "markdown",
      "metadata": {
        "id": "LlLH0kDiLbW0"
      },
      "source": [
        "## Задание"
      ]
    },
    {
      "cell_type": "markdown",
      "metadata": {
        "id": "YesuIb_ELetu"
      },
      "source": [
        "Провести байесовский анализ данных, используя библиотеку Pyro, для оценки параметров линейной регрессии и создания визуализации постериорных распределений. Используйте предоставленный код и выполните следующие шаги:\n",
        "\n",
        "1. Сгенерировать симулированные данные:\n",
        "   - Создайте симулированные данные `X` и `Y` с линейной зависимостью и добавлением случайного шума.\n",
        "\n",
        "2. Определить байесовскую модель регрессии:\n",
        "   - Определите априорные распределения для параметров регрессии: наклон (`slope`), пересечение (`intercept`) и стандартное отклонение (`sigma`).\n",
        "   - Опишите ожидаемое значение для зависимой переменной `mu`.\n",
        "   - Задайте правдоподобие (распределение выборки) для наблюдений.\n",
        "\n",
        "3. Выполнить байесовский вывод с использованием метода стохастической вариационной инференции (SVI):\n",
        "   - Определите аппроксимирующие постериорные распределения для параметров.\n",
        "   - Инициализируйте оптимизатор и SVI.\n",
        "   - Запустите цикл вывода в течение `num_iterations` и отслеживайте функцию потерь.\n",
        "\n",
        "4. Получить выборки из постериорного распределения с использованием Predictive:\n",
        "   - Используйте `Predictive` для получения постериорных выборок параметров модели.\n",
        "\n",
        "5. Вычислить средние значения параметров:\n",
        "   - Вычислите средние значения для наклона (`slope`), пересечения (`intercept`) и стандартного отклонения (`sigma`) из полученных выборок.\n",
        "\n",
        "6. Вывести оцененные параметры:\n",
        "   - Вывести оцененные значения наклона, пересечения и стандартного отклонения.\n",
        "\n",
        "7. Создать графики распределений параметров:\n",
        "   - Построить три подграфика, отображающих постериорные распределения наклона, пересечения и стандартного отклонения.\n",
        "\n",
        "8. Отобразить результаты:\n",
        "   - Отобразить графики постериорных распределений параметров и вычисленные оценки параметров."
      ]
    },
    {
      "cell_type": "markdown",
      "metadata": {
        "id": "nGbO67TB6eQX"
      },
      "source": [
        "C помощью пакетного менеджера pip установим неоходимую библиотеку pyro, пердназначенную для глубокого обучения и байесовского моделирования"
      ]
    },
    {
      "cell_type": "markdown",
      "metadata": {
        "id": "nMxpfP_yLg9b"
      },
      "source": [
        "## **Реализация**"
      ]
    },
    {
      "cell_type": "code",
      "execution_count": null,
      "metadata": {
        "colab": {
          "base_uri": "https://localhost:8080/"
        },
        "id": "3ubnuKkP7dvI",
        "outputId": "b0cd7d7a-dd11-400a-f4ee-cc1c07a058a4"
      },
      "outputs": [
        {
          "name": "stdout",
          "output_type": "stream",
          "text": [
            "Collecting pyro-ppl\n",
            "  Downloading pyro_ppl-1.8.6-py3-none-any.whl (732 kB)\n",
            "\u001b[2K     \u001b[90m━━━━━━━━━━━━━━━━━━━━━━━━━━━━━━━━━━━━━━━\u001b[0m \u001b[32m732.8/732.8 kB\u001b[0m \u001b[31m7.0 MB/s\u001b[0m eta \u001b[36m0:00:00\u001b[0m\n",
            "\u001b[?25hRequirement already satisfied: numpy>=1.7 in /usr/local/lib/python3.10/dist-packages (from pyro-ppl) (1.23.5)\n",
            "Requirement already satisfied: opt-einsum>=2.3.2 in /usr/local/lib/python3.10/dist-packages (from pyro-ppl) (3.3.0)\n",
            "Collecting pyro-api>=0.1.1 (from pyro-ppl)\n",
            "  Downloading pyro_api-0.1.2-py3-none-any.whl (11 kB)\n",
            "Requirement already satisfied: torch>=1.11.0 in /usr/local/lib/python3.10/dist-packages (from pyro-ppl) (2.0.1+cu118)\n",
            "Requirement already satisfied: tqdm>=4.36 in /usr/local/lib/python3.10/dist-packages (from pyro-ppl) (4.66.1)\n",
            "Requirement already satisfied: filelock in /usr/local/lib/python3.10/dist-packages (from torch>=1.11.0->pyro-ppl) (3.12.2)\n",
            "Requirement already satisfied: typing-extensions in /usr/local/lib/python3.10/dist-packages (from torch>=1.11.0->pyro-ppl) (4.5.0)\n",
            "Requirement already satisfied: sympy in /usr/local/lib/python3.10/dist-packages (from torch>=1.11.0->pyro-ppl) (1.12)\n",
            "Requirement already satisfied: networkx in /usr/local/lib/python3.10/dist-packages (from torch>=1.11.0->pyro-ppl) (3.1)\n",
            "Requirement already satisfied: jinja2 in /usr/local/lib/python3.10/dist-packages (from torch>=1.11.0->pyro-ppl) (3.1.2)\n",
            "Requirement already satisfied: triton==2.0.0 in /usr/local/lib/python3.10/dist-packages (from torch>=1.11.0->pyro-ppl) (2.0.0)\n",
            "Requirement already satisfied: cmake in /usr/local/lib/python3.10/dist-packages (from triton==2.0.0->torch>=1.11.0->pyro-ppl) (3.27.4.1)\n",
            "Requirement already satisfied: lit in /usr/local/lib/python3.10/dist-packages (from triton==2.0.0->torch>=1.11.0->pyro-ppl) (16.0.6)\n",
            "Requirement already satisfied: MarkupSafe>=2.0 in /usr/local/lib/python3.10/dist-packages (from jinja2->torch>=1.11.0->pyro-ppl) (2.1.3)\n",
            "Requirement already satisfied: mpmath>=0.19 in /usr/local/lib/python3.10/dist-packages (from sympy->torch>=1.11.0->pyro-ppl) (1.3.0)\n",
            "Installing collected packages: pyro-api, pyro-ppl\n",
            "Successfully installed pyro-api-0.1.2 pyro-ppl-1.8.6\n"
          ]
        }
      ],
      "source": [
        "!pip install pyro-ppl"
      ]
    },
    {
      "cell_type": "markdown",
      "metadata": {
        "id": "PxpvYzoY7j7X"
      },
      "source": [
        "Импортируем необходимые библиотеки"
      ]
    },
    {
      "cell_type": "code",
      "execution_count": null,
      "metadata": {
        "id": "UsZV_faA7q4h"
      },
      "outputs": [],
      "source": [
        "import torch\n",
        "import pyro\n",
        "import pyro.distributions as dist\n",
        "from pyro.infer import SVI, Trace_ELBO, Predictive\n",
        "from pyro.optim import Adam\n",
        "import matplotlib.pyplot as plt\n",
        "import seaborn as sns"
      ]
    },
    {
      "cell_type": "markdown",
      "metadata": {
        "id": "WhpKRl3W8MaI"
      },
      "source": [
        "Зафиксируем генератор случайных чисел"
      ]
    },
    {
      "cell_type": "code",
      "execution_count": null,
      "metadata": {
        "colab": {
          "base_uri": "https://localhost:8080/"
        },
        "id": "UZrqe6en8Qvc",
        "outputId": "1f781e0c-0955-4932-d591-5b149cf5afcb"
      },
      "outputs": [
        {
          "data": {
            "text/plain": [
              "<torch._C.Generator at 0x7d5898224e90>"
            ]
          },
          "execution_count": 5,
          "metadata": {},
          "output_type": "execute_result"
        }
      ],
      "source": [
        "torch.manual_seed(0)"
      ]
    },
    {
      "cell_type": "markdown",
      "metadata": {
        "id": "c69XWCFV8kzH"
      },
      "source": [
        "Сгенерируем данные"
      ]
    },
    {
      "cell_type": "code",
      "execution_count": null,
      "metadata": {
        "id": "17kiYp_58mbo"
      },
      "outputs": [],
      "source": [
        "true_slope = 2\n",
        "true_intercept = 1\n",
        "\n",
        "X = torch.linspace(0, 10, 100)\n",
        "Y = true_intercept + true_slope * X + torch.randn(100)"
      ]
    },
    {
      "cell_type": "markdown",
      "metadata": {
        "id": "OXeUSWWG8rW7"
      },
      "source": [
        "Определим модель Баесовской линейной регресии"
      ]
    },
    {
      "cell_type": "code",
      "execution_count": null,
      "metadata": {
        "id": "uCks-ElW8_g_"
      },
      "outputs": [],
      "source": [
        "def model(X, Y):\n",
        "\tslope = pyro.sample(\"slope\", dist.Normal(0, 10))\n",
        "\tintercept = pyro.sample(\"intercept\", dist.Normal(0, 10))\n",
        "\tsigma = pyro.sample(\"sigma\", dist.HalfNormal(1))\n",
        "\n",
        "\tmu = intercept + slope * X\n",
        "\n",
        "\twith pyro.plate(\"data\", len(X)):\n",
        "\t\tpyro.sample(\"obs\", dist.Normal(mu, sigma), obs=Y)"
      ]
    },
    {
      "cell_type": "markdown",
      "metadata": {
        "id": "6aOgU6Zi952b"
      },
      "source": [
        "Запуск байесовского вывода с использованием SVI (стохастический вариационный вывод)"
      ]
    },
    {
      "cell_type": "code",
      "execution_count": null,
      "metadata": {
        "id": "wJ2aFko990tq"
      },
      "outputs": [],
      "source": [
        "def guide(X, Y):\n",
        "\tslope_loc = pyro.param(\"slope_loc\", torch.tensor(0.0))\n",
        "\tslope_scale = pyro.param(\"slope_scale\", torch.tensor(1.0),\n",
        "\t\t\t\t\t\t\tconstraint=dist.constraints.positive)\n",
        "\tintercept_loc = pyro.param(\"intercept_loc\", torch.tensor(0.0))\n",
        "\tintercept_scale = pyro.param(\"intercept_scale\", torch.tensor(1.0),\n",
        "\t\t\t\t\t\t\t\tconstraint=dist.constraints.positive)\n",
        "\tsigma_loc = pyro.param(\"sigma_loc\", torch.tensor(1.0),\n",
        "\t\t\t\t\t\tconstraint=dist.constraints.positive)\n",
        "\n",
        "\n",
        "\tslope = pyro.sample(\"slope\", dist.Normal(slope_loc, slope_scale))\n",
        "\tintercept = pyro.sample(\"intercept\", dist.Normal(intercept_loc,\n",
        "\t\t\t\t\t\t\t\t\t\t\t\t\tintercept_scale))\n",
        "\tsigma = pyro.sample(\"sigma\", dist.HalfNormal(sigma_loc))"
      ]
    },
    {
      "cell_type": "markdown",
      "metadata": {
        "id": "8AFG8hNz-3B2"
      },
      "source": [
        "Инициализируем SVI и оптимизатор"
      ]
    },
    {
      "cell_type": "code",
      "execution_count": null,
      "metadata": {
        "id": "DVFCMN3u-5sw"
      },
      "outputs": [],
      "source": [
        "optim = Adam({\"lr\": 0.01})\n",
        "svi = SVI(model, guide, optim, loss=Trace_ELBO())"
      ]
    },
    {
      "cell_type": "markdown",
      "metadata": {
        "id": "i_zMNgISAOXX"
      },
      "source": [
        "Определяем число итераций обучения алгоритма"
      ]
    },
    {
      "cell_type": "code",
      "execution_count": null,
      "metadata": {
        "id": "9KHQj3lHARxy"
      },
      "outputs": [],
      "source": [
        "num_iterations = 1000"
      ]
    },
    {
      "cell_type": "markdown",
      "metadata": {
        "id": "H12KHBStATTy"
      },
      "source": [
        "Запускаем обучение"
      ]
    },
    {
      "cell_type": "code",
      "execution_count": null,
      "metadata": {
        "colab": {
          "base_uri": "https://localhost:8080/"
        },
        "id": "Xa-jaddMAVHc",
        "outputId": "884996c3-958c-4c68-def1-eeca28c98bd2"
      },
      "outputs": [
        {
          "name": "stdout",
          "output_type": "stream",
          "text": [
            "Iteration 100/1000 - Loss: 508.7757065296173\n",
            "Iteration 200/1000 - Loss: 1000.9603863358498\n",
            "Iteration 300/1000 - Loss: 195.46654319763184\n",
            "Iteration 400/1000 - Loss: 342.2870411872864\n",
            "Iteration 500/1000 - Loss: 948.0291173458099\n",
            "Iteration 600/1000 - Loss: 308.7798172235489\n",
            "Iteration 700/1000 - Loss: 265.85282278060913\n",
            "Iteration 800/1000 - Loss: 252.7624894976616\n",
            "Iteration 900/1000 - Loss: 222.41442954540253\n",
            "Iteration 1000/1000 - Loss: 320.8233718276024\n"
          ]
        }
      ],
      "source": [
        "for i in range(num_iterations):\n",
        "\tloss = svi.step(X, Y)\n",
        "\tif (i + 1) % 100 == 0:\n",
        "\t\tprint(f\"Iteration {i + 1}/{num_iterations} - Loss: {loss}\")"
      ]
    },
    {
      "cell_type": "markdown",
      "metadata": {
        "id": "wigrLEsuAbg8"
      },
      "source": [
        "Получим апостериорные образцы с помощью"
      ]
    },
    {
      "cell_type": "code",
      "execution_count": null,
      "metadata": {
        "id": "3qWNTreeAdg3"
      },
      "outputs": [],
      "source": [
        "predictive = Predictive(model, guide=guide, num_samples=1000)\n",
        "posterior = predictive(X, Y)"
      ]
    },
    {
      "cell_type": "markdown",
      "metadata": {
        "id": "0ELD3BsOAlzu"
      },
      "source": [
        "Получим значения параметров"
      ]
    },
    {
      "cell_type": "code",
      "execution_count": null,
      "metadata": {
        "id": "9Pyt5MuCAtCw"
      },
      "outputs": [],
      "source": [
        "slope_samples = posterior[\"slope\"]\n",
        "intercept_samples = posterior[\"intercept\"]\n",
        "sigma_samples = posterior[\"sigma\"]"
      ]
    },
    {
      "cell_type": "markdown",
      "metadata": {
        "id": "Qb3bMbhZAw-1"
      },
      "source": [
        "Вычисляем апостериорные средние значения"
      ]
    },
    {
      "cell_type": "code",
      "execution_count": null,
      "metadata": {
        "id": "QvOE3b0qA2m8"
      },
      "outputs": [],
      "source": [
        "slope_mean = slope_samples.mean()\n",
        "intercept_mean = intercept_samples.mean()\n",
        "sigma_mean = sigma_samples.mean()"
      ]
    },
    {
      "cell_type": "code",
      "execution_count": null,
      "metadata": {
        "colab": {
          "base_uri": "https://localhost:8080/"
        },
        "id": "5l79y5JJA6zC",
        "outputId": "717ced31-d4a7-4358-dec6-16b497ebda46"
      },
      "outputs": [
        {
          "name": "stdout",
          "output_type": "stream",
          "text": [
            "Estimated Slope: 1.405526876449585\n",
            "Estimated Intercept: 1.3785078525543213\n",
            "Estimated Sigma: 3.7131247520446777\n"
          ]
        }
      ],
      "source": [
        "print(\"Estimated Slope:\", slope_mean.item())\n",
        "print(\"Estimated Intercept:\", intercept_mean.item())\n",
        "print(\"Estimated Sigma:\", sigma_mean.item())"
      ]
    },
    {
      "cell_type": "markdown",
      "metadata": {
        "id": "G_KIClMBA_Bx"
      },
      "source": [
        "Изобразим график полученных апостериорное распределений параметров"
      ]
    },
    {
      "cell_type": "code",
      "execution_count": null,
      "metadata": {
        "colab": {
          "base_uri": "https://localhost:8080/",
          "height": 819
        },
        "id": "evqnCEJaYzj4",
        "outputId": "710bc886-7f20-407a-9fd7-d9479a786a30"
      },
      "outputs": [
        {
          "name": "stderr",
          "output_type": "stream",
          "text": [
            "<ipython-input-30-9f6dfe12d8df>:3: FutureWarning: \n",
            "\n",
            "`shade` is now deprecated in favor of `fill`; setting `fill=True`.\n",
            "This will become an error in seaborn v0.14.0; please update your code.\n",
            "\n",
            "  sns.kdeplot(slope_samples, shade=True, ax=axs[0])\n",
            "<ipython-input-30-9f6dfe12d8df>:8: FutureWarning: \n",
            "\n",
            "`shade` is now deprecated in favor of `fill`; setting `fill=True`.\n",
            "This will become an error in seaborn v0.14.0; please update your code.\n",
            "\n",
            "  sns.kdeplot(intercept_samples, shade=True, ax=axs[1])\n",
            "<ipython-input-30-9f6dfe12d8df>:13: FutureWarning: \n",
            "\n",
            "`shade` is now deprecated in favor of `fill`; setting `fill=True`.\n",
            "This will become an error in seaborn v0.14.0; please update your code.\n",
            "\n",
            "  sns.kdeplot(sigma_samples, shade=True, ax=axs[2])\n"
          ]
        },
        {
          "data": {
            "image/png": "[encoded data removed]",
            "text/plain": [
              "<Figure size 1500x500 with 3 Axes>"
            ]
          },
          "metadata": {},
          "output_type": "display_data"
        }
      ],
      "source": [
        "fig, axs = plt.subplots(1, 3, figsize=(15, 5))\n",
        "\n",
        "sns.kdeplot(slope_samples, shade=True, ax=axs[0])\n",
        "axs[0].set_title(\"Posterior Distribution of Slope\")\n",
        "axs[0].set_xlabel(\"Slope\")\n",
        "axs[0].set_ylabel(\"Density\")\n",
        "\n",
        "sns.kdeplot(intercept_samples, shade=True, ax=axs[1])\n",
        "axs[1].set_title(\"Posterior Distribution of Intercept\")\n",
        "axs[1].set_xlabel(\"Intercept\")\n",
        "axs[1].set_ylabel(\"Density\")\n",
        "\n",
        "sns.kdeplot(sigma_samples, shade=True, ax=axs[2])\n",
        "axs[2].set_title(\"Posterior Distribution of Sigma\")\n",
        "axs[2].set_xlabel(\"Sigma\")\n",
        "axs[2].set_ylabel(\"Density\")\n",
        "\n",
        "plt.tight_layout()\n",
        "plt.show()"
      ]
    }
  ],
  "metadata": {
    "colab": {
      "collapsed_sections": [
        "CAn_R569UT7g",
        "qRSUNE60U9SC",
        "RqgSqStGCucT",
        "0_9WfU06CxSM",
        "gue8hpVmC0-B",
        "41UVaTrVC4KC",
        "xHLupL-PC7y9",
        "N2n48A4KVtxO",
        "LlLH0kDiLbW0",
        "nMxpfP_yLg9b",
        "_btyvGR4BeR-"
      ],
      "provenance": []
    },
    "kernelspec": {
      "display_name": "Python 3",
      "name": "python3"
    },
    "language_info": {
      "name": "python"
    }
  },
  "nbformat": 4,
  "nbformat_minor": 0
}
